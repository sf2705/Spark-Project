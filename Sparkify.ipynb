{
 "cells": [
  {
   "cell_type": "markdown",
   "metadata": {},
   "source": [
    "# Sparkify Project Workspace\n",
    "This workspace contains a tiny subset (128MB) of the full dataset available (12GB). Feel free to use this workspace to build your project, or to explore a smaller subset with Spark before deploying your cluster on the cloud. Instructions for setting up your Spark cluster is included in the last lesson of the Extracurricular Spark Course content.\n",
    "\n",
    "You can follow the steps below to guide your data analysis and model building portion of this project."
   ]
  },
  {
   "cell_type": "code",
   "execution_count": 1,
   "metadata": {},
   "outputs": [],
   "source": [
    "# import libraries\n",
    "import pyspark\n",
    "from pyspark import SparkConf, SparkContext\n",
    "from pyspark.sql import SparkSession\n",
    "from pyspark.sql import functions\n",
    "\n",
    "\n",
    "from pyspark.sql.functions import udf\n",
    "from pyspark.sql.functions import desc\n",
    "from pyspark.sql.functions import isnan, when, count, col\n",
    "from pyspark.sql.functions import countDistinct\n",
    "\n",
    "from pyspark.sql.types import IntegerType\n",
    "from pyspark.ml.stat import Correlation\n",
    "from pyspark.ml import Pipeline\n",
    "from pyspark.ml.feature import Normalizer,VectorAssembler, StringIndexer, StandardScaler\n",
    "from pyspark.ml.classification import LogisticRegression\n",
    "from pyspark.ml.tuning import CrossValidator, ParamGridBuilder\n",
    "from pyspark.ml.evaluation import BinaryClassificationEvaluator\n",
    "\n",
    "import datetime\n",
    "import numpy as np\n",
    "import pandas as pd\n",
    "\n",
    "import matplotlib.pyplot as plt\n",
    "%matplotlib inline\n"
   ]
  },
  {
   "cell_type": "code",
   "execution_count": 2,
   "metadata": {},
   "outputs": [],
   "source": [
    "# create a Spark session\n",
    "configure = SparkConf().setAppName('Sparkify').setMaster('local')\n",
    "sc = SparkContext(conf = configure)"
   ]
  },
  {
   "cell_type": "code",
   "execution_count": 3,
   "metadata": {},
   "outputs": [],
   "source": [
    "spark = SparkSession \\\n",
    "    .builder \\\n",
    "    .appName(\"Sparkify\") \\\n",
    "    .getOrCreate()"
   ]
  },
  {
   "cell_type": "code",
   "execution_count": 4,
   "metadata": {
    "scrolled": true
   },
   "outputs": [
    {
     "data": {
      "text/plain": [
       "[('spark.master', 'local'),\n",
       " ('spark.driver.port', '53166'),\n",
       " ('spark.rdd.compress', 'True'),\n",
       " ('spark.app.id', 'local-1608561677227'),\n",
       " ('spark.app.name', 'Sparkify'),\n",
       " ('spark.serializer.objectStreamReset', '100'),\n",
       " ('spark.submit.pyFiles', ''),\n",
       " ('spark.executor.id', 'driver'),\n",
       " ('spark.submit.deployMode', 'client'),\n",
       " ('spark.ui.showConsoleProgress', 'true'),\n",
       " ('spark.driver.host', '10.12.3.24')]"
      ]
     },
     "execution_count": 4,
     "metadata": {},
     "output_type": "execute_result"
    }
   ],
   "source": [
    "spark.sparkContext.getConf().getAll()"
   ]
  },
  {
   "cell_type": "code",
   "execution_count": 5,
   "metadata": {},
   "outputs": [
    {
     "data": {
      "text/html": [
       "\n",
       "            <div>\n",
       "                <p><b>SparkSession - in-memory</b></p>\n",
       "                \n",
       "        <div>\n",
       "            <p><b>SparkContext</b></p>\n",
       "\n",
       "            <p><a href=\"http://10.12.3.24:4041\">Spark UI</a></p>\n",
       "\n",
       "            <dl>\n",
       "              <dt>Version</dt>\n",
       "                <dd><code>v3.0.1</code></dd>\n",
       "              <dt>Master</dt>\n",
       "                <dd><code>local</code></dd>\n",
       "              <dt>AppName</dt>\n",
       "                <dd><code>Sparkify</code></dd>\n",
       "            </dl>\n",
       "        </div>\n",
       "        \n",
       "            </div>\n",
       "        "
      ],
      "text/plain": [
       "<pyspark.sql.session.SparkSession at 0x7fcd511d25e0>"
      ]
     },
     "execution_count": 5,
     "metadata": {},
     "output_type": "execute_result"
    }
   ],
   "source": [
    "spark"
   ]
  },
  {
   "cell_type": "markdown",
   "metadata": {},
   "source": [
    "# Load and Clean Dataset\n"
   ]
  },
  {
   "cell_type": "code",
   "execution_count": 6,
   "metadata": {},
   "outputs": [
    {
     "name": "stdout",
     "output_type": "stream",
     "text": [
      "root\n",
      " |-- artist: string (nullable = true)\n",
      " |-- auth: string (nullable = true)\n",
      " |-- firstName: string (nullable = true)\n",
      " |-- gender: string (nullable = true)\n",
      " |-- itemInSession: long (nullable = true)\n",
      " |-- lastName: string (nullable = true)\n",
      " |-- length: double (nullable = true)\n",
      " |-- level: string (nullable = true)\n",
      " |-- location: string (nullable = true)\n",
      " |-- method: string (nullable = true)\n",
      " |-- page: string (nullable = true)\n",
      " |-- registration: long (nullable = true)\n",
      " |-- sessionId: long (nullable = true)\n",
      " |-- song: string (nullable = true)\n",
      " |-- status: long (nullable = true)\n",
      " |-- ts: long (nullable = true)\n",
      " |-- userAgent: string (nullable = true)\n",
      " |-- userId: string (nullable = true)\n",
      "\n"
     ]
    }
   ],
   "source": [
    "# Load the dataset\n",
    "path = 'mini_sparkify_event_data.json'\n",
    "event_data = spark.read.json(path)\n",
    "event_data.printSchema()"
   ]
  },
  {
   "cell_type": "code",
   "execution_count": 7,
   "metadata": {},
   "outputs": [
    {
     "data": {
      "text/plain": [
       "286500"
      ]
     },
     "execution_count": 7,
     "metadata": {},
     "output_type": "execute_result"
    }
   ],
   "source": [
    "# number of rows in dataset\n",
    "event_data.count()"
   ]
  },
  {
   "cell_type": "markdown",
   "metadata": {},
   "source": [
    "### Drop Rows with Missing Values"
   ]
  },
  {
   "cell_type": "code",
   "execution_count": 8,
   "metadata": {},
   "outputs": [],
   "source": [
    "# Drop rows with NaN in UserID and SessionID\n",
    "event_data_valid = event_data.dropna(how = \"any\", subset = [\"userId\", \"sessionId\"])"
   ]
  },
  {
   "cell_type": "code",
   "execution_count": 9,
   "metadata": {},
   "outputs": [
    {
     "data": {
      "text/plain": [
       "286500"
      ]
     },
     "execution_count": 9,
     "metadata": {},
     "output_type": "execute_result"
    }
   ],
   "source": [
    "# count number of rows\n",
    "event_data_valid.count()"
   ]
  },
  {
   "cell_type": "markdown",
   "metadata": {},
   "source": [
    "**Seems there is no missing value in UserID and SessionID, but we need to take a closer look of the data to make sure.**"
   ]
  },
  {
   "cell_type": "code",
   "execution_count": 10,
   "metadata": {
    "scrolled": true
   },
   "outputs": [
    {
     "name": "stdout",
     "output_type": "stream",
     "text": [
      "+------+\n",
      "|userId|\n",
      "+------+\n",
      "|      |\n",
      "|    10|\n",
      "|   100|\n",
      "|100001|\n",
      "|100002|\n",
      "+------+\n",
      "only showing top 5 rows\n",
      "\n"
     ]
    }
   ],
   "source": [
    "event_data_valid.select(\"userId\").dropDuplicates().sort(\"userId\").show(5)"
   ]
  },
  {
   "cell_type": "code",
   "execution_count": 11,
   "metadata": {
    "scrolled": true
   },
   "outputs": [
    {
     "name": "stdout",
     "output_type": "stream",
     "text": [
      "+---------+\n",
      "|sessionId|\n",
      "+---------+\n",
      "|        1|\n",
      "|        2|\n",
      "|        3|\n",
      "|        4|\n",
      "|        5|\n",
      "+---------+\n",
      "only showing top 5 rows\n",
      "\n"
     ]
    }
   ],
   "source": [
    "event_data_valid.select(\"sessionId\").dropDuplicates().sort(\"sessionId\").show(5)"
   ]
  },
  {
   "cell_type": "markdown",
   "metadata": {},
   "source": [
    "**We can see that there are empty strings in UserID and SessionID is clean. \n",
    "Then we need to drop those empty strings in UserID**"
   ]
  },
  {
   "cell_type": "code",
   "execution_count": 12,
   "metadata": {},
   "outputs": [],
   "source": [
    "event_data_valid = event_data_valid.filter(event_data_valid[\"userId\"] != \"\")"
   ]
  },
  {
   "cell_type": "code",
   "execution_count": 13,
   "metadata": {},
   "outputs": [
    {
     "data": {
      "text/plain": [
       "278154"
      ]
     },
     "execution_count": 13,
     "metadata": {},
     "output_type": "execute_result"
    }
   ],
   "source": [
    "# number of rows left\n",
    "event_data_valid.count()"
   ]
  },
  {
   "cell_type": "markdown",
   "metadata": {},
   "source": [
    "**We also want to take a look at all the other fieds we have. To help us decide whether those fields can be used in our model later.**"
   ]
  },
  {
   "cell_type": "code",
   "execution_count": 14,
   "metadata": {},
   "outputs": [
    {
     "name": "stdout",
     "output_type": "stream",
     "text": [
      "+------+----+---------+------+-------------+--------+------+-----+--------+------+----+------------+---------+----+------+---+---------+------+\n",
      "|artist|auth|firstName|gender|itemInSession|lastName|length|level|location|method|page|registration|sessionId|song|status| ts|userAgent|userId|\n",
      "+------+----+---------+------+-------------+--------+------+-----+--------+------+----+------------+---------+----+------+---+---------+------+\n",
      "|     0|   0|        0|     0|            0|       0|     0|    0|       0|     0|   0|           0|        0|   0|     0|  0|        0|     0|\n",
      "+------+----+---------+------+-------------+--------+------+-----+--------+------+----+------------+---------+----+------+---+---------+------+\n",
      "\n"
     ]
    }
   ],
   "source": [
    "event_data_valid.select([count(when(isnan(c), c)).alias(c) for c in event_data_valid.columns]).show()"
   ]
  },
  {
   "cell_type": "markdown",
   "metadata": {},
   "source": [
    "**Great! Seems we have a very clean dataset**"
   ]
  },
  {
   "cell_type": "markdown",
   "metadata": {},
   "source": [
    "# Exploratory Data Analysis\n"
   ]
  },
  {
   "cell_type": "markdown",
   "metadata": {},
   "source": [
    "### Time span"
   ]
  },
  {
   "cell_type": "markdown",
   "metadata": {},
   "source": [
    "**When is the start and end date of our dataset**"
   ]
  },
  {
   "cell_type": "code",
   "execution_count": 15,
   "metadata": {},
   "outputs": [],
   "source": [
    "# Create a function that returns the desired string from a timestamp \n",
    "def format_timestamp(ts):\n",
    "    return datetime.datetime.fromtimestamp(ts).strftime('%Y-%m-%d')\n",
    "\n",
    "# Create the UDF\n",
    "get_date = udf(lambda x: format_timestamp(x/1000))"
   ]
  },
  {
   "cell_type": "code",
   "execution_count": 16,
   "metadata": {},
   "outputs": [],
   "source": [
    "event_data_valid = event_data_valid.withColumn(\"date\", get_date(event_data_valid.ts))"
   ]
  },
  {
   "cell_type": "code",
   "execution_count": 17,
   "metadata": {
    "scrolled": true
   },
   "outputs": [
    {
     "name": "stdout",
     "output_type": "stream",
     "text": [
      "+----------+\n",
      "|      date|\n",
      "+----------+\n",
      "|2018-09-30|\n",
      "|2018-10-01|\n",
      "|2018-10-02|\n",
      "|2018-10-03|\n",
      "|2018-10-04|\n",
      "|2018-10-05|\n",
      "|2018-10-06|\n",
      "|2018-10-07|\n",
      "|2018-10-08|\n",
      "|2018-10-09|\n",
      "|2018-10-10|\n",
      "|2018-10-11|\n",
      "|2018-10-12|\n",
      "|2018-10-13|\n",
      "|2018-10-14|\n",
      "|2018-10-15|\n",
      "|2018-10-16|\n",
      "|2018-10-17|\n",
      "|2018-10-18|\n",
      "|2018-10-19|\n",
      "+----------+\n",
      "only showing top 20 rows\n",
      "\n"
     ]
    }
   ],
   "source": [
    "# all the distinct dates\n",
    "event_data_valid.select(['date']).dropDuplicates().sort(\"ts\").show()"
   ]
  },
  {
   "cell_type": "markdown",
   "metadata": {},
   "source": [
    "### Number of users"
   ]
  },
  {
   "cell_type": "code",
   "execution_count": 18,
   "metadata": {
    "scrolled": true
   },
   "outputs": [
    {
     "name": "stdout",
     "output_type": "stream",
     "text": [
      "+-------------+\n",
      "|count(userId)|\n",
      "+-------------+\n",
      "|          225|\n",
      "+-------------+\n",
      "\n"
     ]
    }
   ],
   "source": [
    "event_data_valid.select(\"userID\").agg(countDistinct('userId')).show()"
   ]
  },
  {
   "cell_type": "markdown",
   "metadata": {},
   "source": [
    "### Gender Distribution"
   ]
  },
  {
   "cell_type": "code",
   "execution_count": 19,
   "metadata": {
    "scrolled": true
   },
   "outputs": [
    {
     "name": "stdout",
     "output_type": "stream",
     "text": [
      "+------+------+\n",
      "|gender| count|\n",
      "+------+------+\n",
      "|     F|126696|\n",
      "|     M|101412|\n",
      "+------+------+\n",
      "\n"
     ]
    }
   ],
   "source": [
    "# total songs played by gender\n",
    "songs_by_gender = event_data_valid.filter(event_data_valid.page == \"NextSong\").groupby(event_data_valid.gender).count().orderBy(event_data_valid.gender)\n",
    "songs_by_gender.show()"
   ]
  },
  {
   "cell_type": "code",
   "execution_count": 20,
   "metadata": {},
   "outputs": [
    {
     "name": "stdout",
     "output_type": "stream",
     "text": [
      "+------+-------------+\n",
      "|gender|count(userId)|\n",
      "+------+-------------+\n",
      "|     F|          104|\n",
      "|     M|          121|\n",
      "+------+-------------+\n",
      "\n"
     ]
    }
   ],
   "source": [
    "# number of users by gender\n",
    "user_by_gender = event_data_valid.groupBy('gender').agg(countDistinct('userId'))\n",
    "user_by_gender.show()"
   ]
  },
  {
   "cell_type": "markdown",
   "metadata": {},
   "source": [
    "**We can see that although in our users, we have less female than male, female contribute to more song plays.**"
   ]
  },
  {
   "cell_type": "markdown",
   "metadata": {},
   "source": [
    "### Loacation Distribution"
   ]
  },
  {
   "cell_type": "code",
   "execution_count": 21,
   "metadata": {
    "scrolled": true
   },
   "outputs": [
    {
     "name": "stdout",
     "output_type": "stream",
     "text": [
      "+--------------------+-----+\n",
      "|            location|count|\n",
      "+--------------------+-----+\n",
      "|Los Angeles-Long ...|24861|\n",
      "|New York-Newark-J...|19268|\n",
      "|Boston-Cambridge-...|11415|\n",
      "|Houston-The Woodl...| 7832|\n",
      "|Charlotte-Concord...| 6433|\n",
      "|Dallas-Fort Worth...| 6188|\n",
      "|Louisville/Jeffer...| 5664|\n",
      "|Philadelphia-Camd...| 4799|\n",
      "|Chicago-Napervill...| 4088|\n",
      "|Vineland-Bridgeto...| 4079|\n",
      "|Phoenix-Mesa-Scot...| 3956|\n",
      "|    St. Louis, MO-IL| 3923|\n",
      "|          Wilson, NC| 3816|\n",
      "|Denver-Aurora-Lak...| 3725|\n",
      "|           Ionia, MI| 3632|\n",
      "|San Antonio-New B...| 3602|\n",
      "|        Danville, VA| 3573|\n",
      "|Atlanta-Sandy Spr...| 3479|\n",
      "|New Haven-Milford...| 3364|\n",
      "|         Jackson, MS| 3236|\n",
      "+--------------------+-----+\n",
      "only showing top 20 rows\n",
      "\n"
     ]
    }
   ],
   "source": [
    "# Number of songs played in each location\n",
    "songs_by_location = event_data_valid.filter(event_data_valid.page == \"NextSong\").groupby(event_data_valid.location).count().sort(col('count').desc())\n",
    "songs_by_location.show()"
   ]
  },
  {
   "cell_type": "code",
   "execution_count": 22,
   "metadata": {
    "scrolled": true
   },
   "outputs": [
    {
     "name": "stdout",
     "output_type": "stream",
     "text": [
      "+--------------------+-------------+\n",
      "|            location|count(userId)|\n",
      "+--------------------+-------------+\n",
      "|Los Angeles-Long ...|           16|\n",
      "|New York-Newark-J...|           15|\n",
      "|Dallas-Fort Worth...|            7|\n",
      "|Phoenix-Mesa-Scot...|            7|\n",
      "|    St. Louis, MO-IL|            6|\n",
      "|Chicago-Napervill...|            6|\n",
      "|Charlotte-Concord...|            6|\n",
      "|Philadelphia-Camd...|            5|\n",
      "|Miami-Fort Lauder...|            5|\n",
      "|Boston-Cambridge-...|            5|\n",
      "|Atlanta-Sandy Spr...|            4|\n",
      "|Washington-Arling...|            4|\n",
      "|Houston-The Woodl...|            4|\n",
      "|San Diego-Carlsba...|            3|\n",
      "|Las Vegas-Henders...|            3|\n",
      "|New Haven-Milford...|            3|\n",
      "|Providence-Warwic...|            2|\n",
      "|San Antonio-New B...|            2|\n",
      "|Indianapolis-Carm...|            2|\n",
      "|         Jackson, MS|            2|\n",
      "+--------------------+-------------+\n",
      "only showing top 20 rows\n",
      "\n"
     ]
    }
   ],
   "source": [
    "# number of users in each location\n",
    "user_by_location = event_data_valid.groupBy('location').agg(countDistinct('userId')).sort(col('count(userId)').desc())\n",
    "user_by_location.show()"
   ]
  },
  {
   "cell_type": "code",
   "execution_count": 23,
   "metadata": {},
   "outputs": [],
   "source": [
    "avg_play = udf(lambda x, y: x / y if y!=0 else 0)"
   ]
  },
  {
   "cell_type": "code",
   "execution_count": 24,
   "metadata": {
    "scrolled": true
   },
   "outputs": [
    {
     "name": "stdout",
     "output_type": "stream",
     "text": [
      "+---------------+\n",
      "|count(Location)|\n",
      "+---------------+\n",
      "|            114|\n",
      "+---------------+\n",
      "\n"
     ]
    }
   ],
   "source": [
    "# on average, how many songs are played in each location\n",
    "user_location_songs = songs_by_location.join(user_by_location, on=['location'], how='left_outer')\n",
    "user_location_songs = user_location_songs.withColumn('Average_Play', avg_play('count', 'count(userId)')).sort(col('Average_Play').cast('float').desc())\n",
    "\n",
    "# total number of locations\n",
    "user_location_songs.select('location').dropDuplicates().agg(countDistinct('Location')).show()"
   ]
  },
  {
   "cell_type": "markdown",
   "metadata": {},
   "source": [
    "**Plot a bar chart to see the top 15 locations with highest average songs played**"
   ]
  },
  {
   "cell_type": "code",
   "execution_count": 25,
   "metadata": {},
   "outputs": [],
   "source": [
    "user_location_songs_df = user_location_songs.toPandas()\n",
    "user_location_songs_df['Average_Play'] = pd.to_numeric(user_location_songs_df['Average_Play'])"
   ]
  },
  {
   "cell_type": "code",
   "execution_count": 26,
   "metadata": {},
   "outputs": [
    {
     "data": {
      "image/png": "[encoded data removed]",
      "text/plain": [
       "<Figure size 432x288 with 1 Axes>"
      ]
     },
     "metadata": {
      "needs_background": "light"
     },
     "output_type": "display_data"
    }
   ],
   "source": [
    "# show top 15 locations with hiest average songs played in bar chart\n",
    "user_location_songs_df_sub = user_location_songs_df.head(15).sort_values('Average_Play')\n",
    "plt.barh(user_location_songs_df_sub['location'], user_location_songs_df_sub['Average_Play'])\n",
    "plt.ylabel(\"Location\")\n",
    "plt.xlabel(\"Average number of songs played\");\n"
   ]
  },
  {
   "cell_type": "markdown",
   "metadata": {},
   "source": [
    "### Web interactions"
   ]
  },
  {
   "cell_type": "code",
   "execution_count": 27,
   "metadata": {},
   "outputs": [
    {
     "name": "stdout",
     "output_type": "stream",
     "text": [
      "+--------------------+\n",
      "|                page|\n",
      "+--------------------+\n",
      "|               About|\n",
      "|          Add Friend|\n",
      "|     Add to Playlist|\n",
      "|              Cancel|\n",
      "|Cancellation Conf...|\n",
      "|           Downgrade|\n",
      "|               Error|\n",
      "|                Help|\n",
      "|                Home|\n",
      "|              Logout|\n",
      "|            NextSong|\n",
      "|         Roll Advert|\n",
      "|       Save Settings|\n",
      "|            Settings|\n",
      "|    Submit Downgrade|\n",
      "|      Submit Upgrade|\n",
      "|         Thumbs Down|\n",
      "|           Thumbs Up|\n",
      "|             Upgrade|\n",
      "+--------------------+\n",
      "\n"
     ]
    }
   ],
   "source": [
    "## all kinds of pages\n",
    "event_data_valid.select(\"page\").dropDuplicates().sort(\"page\").show()"
   ]
  },
  {
   "cell_type": "markdown",
   "metadata": {},
   "source": [
    "### Calculating Statistics by Hour"
   ]
  },
  {
   "cell_type": "code",
   "execution_count": 28,
   "metadata": {},
   "outputs": [],
   "source": [
    "# transform timestamp to hour\n",
    "get_hour = udf(lambda x: datetime.datetime.fromtimestamp(x / 1000.0). hour)"
   ]
  },
  {
   "cell_type": "code",
   "execution_count": 29,
   "metadata": {},
   "outputs": [],
   "source": [
    "event_data_valid = event_data_valid.withColumn(\"hour\", get_hour(event_data_valid.ts))"
   ]
  },
  {
   "cell_type": "code",
   "execution_count": 30,
   "metadata": {},
   "outputs": [],
   "source": [
    "# number of songs played in each hour\n",
    "songs_in_hour = event_data_valid.filter(event_data_valid.page == \"NextSong\").groupby(event_data_valid.hour).count().orderBy(event_data_valid.hour.cast(\"float\"))"
   ]
  },
  {
   "cell_type": "code",
   "execution_count": 31,
   "metadata": {},
   "outputs": [],
   "source": [
    "songs_in_hour_pd = songs_in_hour.toPandas()\n",
    "songs_in_hour_pd.hour = pd.to_numeric(songs_in_hour_pd.hour)"
   ]
  },
  {
   "cell_type": "code",
   "execution_count": 32,
   "metadata": {},
   "outputs": [
    {
     "data": {
      "image/png": "[encoded data removed]",
      "text/plain": [
       "<Figure size 432x288 with 1 Axes>"
      ]
     },
     "metadata": {
      "needs_background": "light"
     },
     "output_type": "display_data"
    }
   ],
   "source": [
    "# show number of songs played in each hour in scatter plot\n",
    "plt.scatter(songs_in_hour_pd[\"hour\"], songs_in_hour_pd[\"count\"])\n",
    "plt.xlim(-1, 24);\n",
    "plt.ylim(0, 1.2 * max(songs_in_hour_pd[\"count\"]))\n",
    "plt.xlabel(\"Hour\")\n",
    "plt.ylabel(\"Songs played\");"
   ]
  },
  {
   "cell_type": "markdown",
   "metadata": {},
   "source": [
    "**On Average, more songs are played around noon compare other times**"
   ]
  },
  {
   "cell_type": "markdown",
   "metadata": {},
   "source": [
    "# Feature Engineering\n",
    "Once you've familiarized yourself with the data, build out the features you find promising to train your model on. "
   ]
  },
  {
   "cell_type": "code",
   "execution_count": 33,
   "metadata": {},
   "outputs": [],
   "source": [
    "# transform different pages to column and aggregate by count\n",
    "df = event_data_valid.groupby(['userID', 'gender']).pivot('page').agg(count('page'))"
   ]
  },
  {
   "cell_type": "markdown",
   "metadata": {},
   "source": [
    "### Define Churn\n"
   ]
  },
  {
   "cell_type": "code",
   "execution_count": 34,
   "metadata": {},
   "outputs": [],
   "source": [
    "# add label -- churn\n",
    "df = df.withColumn('churn', when(col('Cancellation Confirmation') > 0, 1).otherwise(0).cast(\"integer\"))"
   ]
  },
  {
   "cell_type": "code",
   "execution_count": 35,
   "metadata": {},
   "outputs": [],
   "source": [
    "# add feature - downgrade\n",
    "df = df.withColumn('downgraded', when(col('Downgrade') > 0, 1).otherwise(0).cast(\"integer\"))"
   ]
  },
  {
   "cell_type": "code",
   "execution_count": 36,
   "metadata": {},
   "outputs": [],
   "source": [
    "# fill na with 0. Since a user may not use a page yet.\n",
    "df = df.na.fill(0)"
   ]
  },
  {
   "cell_type": "code",
   "execution_count": 37,
   "metadata": {
    "scrolled": true
   },
   "outputs": [
    {
     "name": "stdout",
     "output_type": "stream",
     "text": [
      "+------+------+-----+----------+---------------+------+-------------------------+---------+-----+----+----+------+--------+-----------+-------------+--------+----------------+--------------+-----------+---------+-------+-----+----------+\n",
      "|userID|gender|About|Add Friend|Add to Playlist|Cancel|Cancellation Confirmation|Downgrade|Error|Help|Home|Logout|NextSong|Roll Advert|Save Settings|Settings|Submit Downgrade|Submit Upgrade|Thumbs Down|Thumbs Up|Upgrade|churn|downgraded|\n",
      "+------+------+-----+----------+---------------+------+-------------------------+---------+-----+----+----+------+--------+-----------+-------------+--------+----------------+--------------+-----------+---------+-------+-----+----------+\n",
      "|    44|     F|    3|         8|             10|     0|                        0|        1|    0|   6|  15|     6|     429|          0|            1|       4|               0|             1|          2|       25|      1|    0|         1|\n",
      "|    46|     F|    3|        18|             30|     0|                        0|        6|    0|   3|  47|    13|     918|         13|            2|      10|               0|             1|         11|       44|      1|    0|         1|\n",
      "|    41|     F|    3|        36|             61|     0|                        0|       23|    1|  19|  64|    20|    1894|          1|            3|       9|               0|             0|         10|       76|      0|    0|         1|\n",
      "|    72|     F|    0|         3|              3|     0|                        0|        0|    1|   0|   5|     1|      85|         10|            0|       0|               0|             0|          1|        6|      2|    0|         0|\n",
      "|300023|     F|    6|        31|             63|     0|                        0|       12|    3|  10|  64|    19|    1797|          2|            1|      14|               1|             1|         16|      169|      1|    0|         1|\n",
      "|    39|     F|   16|       122|            240|     0|                        0|       73|    7|  46| 355|   124|    8002|        128|            6|      35|               3|             4|         69|      388|     14|    0|         1|\n",
      "|100010|     F|    1|         4|              7|     0|                        0|        0|    0|   2|  11|     5|     275|         52|            0|       0|               0|             0|          5|       17|      2|    0|         0|\n",
      "|200020|     M|    2|        10|             32|     1|                        1|        6|    0|   7|  67|    26|    1169|         69|            1|       7|               1|             1|         36|       56|      6|    1|         1|\n",
      "|200001|     M|    0|         0|              3|     1|                        1|        0|    0|   1|  10|     4|     115|          3|            2|       6|               0|             0|          1|       10|      1|    1|         0|\n",
      "|   116|     F|    0|         2|              4|     0|                        0|        0|    0|   0|   4|     0|      63|          3|            1|       1|               0|             0|          0|        1|      0|    0|         0|\n",
      "|    94|     F|    1|         1|              3|     0|                        0|        0|    0|   0|  12|     3|     146|         12|            1|       2|               0|             0|          1|        4|      1|    0|         0|\n",
      "|    35|     F|    5|        31|             64|     0|                        0|       10|    3|   9|  90|    25|    1610|         55|            1|       7|               2|             2|         14|       71|      6|    0|         1|\n",
      "|    40|     F|    2|        23|             39|     0|                        0|        2|    0|   9|  45|    13|    1078|         23|            2|       7|               0|             1|         11|       66|      1|    0|         1|\n",
      "|    75|     F|    3|        21|             27|     0|                        0|        8|    1|   2|  22|     5|     812|          1|            0|       3|               0|             0|          4|       48|      0|    0|         1|\n",
      "|100008|     F|    3|        17|             30|     0|                        0|       10|    0|   6|  24|     7|     772|         20|            0|       3|               1|             0|          6|       37|      4|    0|         1|\n",
      "|200015|     M|    0|         2|             13|     1|                        1|        0|    1|   1|  18|     7|     258|         22|            1|       4|               0|             0|         10|       10|      0|    1|         0|\n",
      "|   100|     M|   12|        49|             61|     0|                        0|       30|    3|  18| 105|    35|    2682|         25|            5|      11|               1|             1|         27|      148|      1|    0|         1|\n",
      "|300005|     F|    1|         8|              9|     0|                        0|        0|    1|   2|  15|     3|     312|          2|            0|       0|               0|             1|          4|       35|      1|    0|         0|\n",
      "|100006|     F|    0|         4|              1|     1|                        1|        0|    0|   0|   2|     1|      26|          3|            0|       1|               0|             0|          2|        2|      0|    1|         0|\n",
      "|    92|     F|   21|       110|            181|     0|                        0|       68|    3|  40| 266|    78|    5945|         85|           10|      52|               1|             1|         72|      292|      5|    0|         1|\n",
      "+------+------+-----+----------+---------------+------+-------------------------+---------+-----+----+----+------+--------+-----------+-------------+--------+----------------+--------------+-----------+---------+-------+-----+----------+\n",
      "only showing top 20 rows\n",
      "\n"
     ]
    }
   ],
   "source": [
    "df.show()"
   ]
  },
  {
   "cell_type": "markdown",
   "metadata": {},
   "source": [
    "# Modeling\n",
    "Split the full dataset into train, test, and validation sets. Test out several of the machine learning methods you learned. Evaluate the accuracy of the various models, tuning parameters as necessary. Determine your winning model based on test accuracy and report results on the validation set. Since the churned users are a fairly small subset, I suggest using F1 score as the metric to optimize."
   ]
  },
  {
   "cell_type": "markdown",
   "metadata": {},
   "source": [
    "#### Before modeling, we can check if there is any feature has strong correlation with churn. And also check the correlations between the features that we are planning to use. "
   ]
  },
  {
   "cell_type": "code",
   "execution_count": 38,
   "metadata": {},
   "outputs": [],
   "source": [
    "# correlation\n",
    "\n",
    "vector_col = \"corr_features\"\n",
    "\n",
    "# variables that we are interested in\n",
    "columns = ['churn','Add Friend','Add to Playlist','downgraded',\\\n",
    "            'Error', 'NextSong', 'Upgrade', 'Thumbs Down', \\\n",
    "            'Thumbs Up']\n",
    "\n",
    "# transform columns into vector\n",
    "assembler = VectorAssembler(inputCols= columns, \n",
    "                            outputCol=vector_col)\n",
    "df_vector = assembler.transform(df)\n",
    "\n",
    "# normalize vector\n",
    "scaler = Normalizer(inputCol=\"corr_features\", outputCol=\"ScaledFeatures\")\n",
    "df_vector = scaler.transform(df_vector).select(vector_col)\n",
    "\n",
    "# fit into correlation matrix\n",
    "matrix = Correlation.corr(df_vector, vector_col)\n"
   ]
  },
  {
   "cell_type": "code",
   "execution_count": 39,
   "metadata": {
    "scrolled": true
   },
   "outputs": [
    {
     "name": "stdout",
     "output_type": "stream",
     "text": [
      "[1.0, -0.18095621553413202, -0.15187455050425933, -0.013410265703587968, -0.18828663391867329, -0.1561097592261295, -0.013729980485466814, -0.07466759597089637, -0.16810479210120885]\n"
     ]
    }
   ],
   "source": [
    "# convert to list to plot\n",
    "matrix = Correlation.corr(df_vector, vector_col).collect()[0][0]\n",
    "corrmatrix = matrix.toArray().tolist()\n",
    "\n",
    "# correlation coefficient related to churn\n",
    "print(corrmatrix[0])"
   ]
  },
  {
   "cell_type": "markdown",
   "metadata": {},
   "source": [
    "**We can see that there is no certain variable that is highly correlated to churn.**"
   ]
  },
  {
   "cell_type": "code",
   "execution_count": 40,
   "metadata": {},
   "outputs": [
    {
     "name": "stderr",
     "output_type": "stream",
     "text": [
      "<ipython-input-40-2a0efa7ab73c>:5: UserWarning: FixedFormatter should only be used together with FixedLocator\n",
      "  ax.set_xticklabels(['']+attr)\n",
      "<ipython-input-40-2a0efa7ab73c>:6: UserWarning: FixedFormatter should only be used together with FixedLocator\n",
      "  ax.set_yticklabels(['']+attr)\n"
     ]
    },
    {
     "data": {
      "image/png": "[encoded data removed]",
      "text/plain": [
       "<Figure size 432x288 with 2 Axes>"
      ]
     },
     "metadata": {
      "needs_background": "light"
     },
     "output_type": "display_data"
    }
   ],
   "source": [
    "def plot_corr_matrix(correlations,columns):\n",
    "    '''\n",
    "    Input: correlations - list - correlation matrix\n",
    "           columns - list - list of all the column names\n",
    "    Output: None\n",
    "    '''\n",
    "    \n",
    "    fig=plt.figure()\n",
    "    ax=fig.add_subplot(111)\n",
    "    ax.set_title(\"Correlation Matrix\")\n",
    "    ax.set_xticklabels(['']+attr)\n",
    "    ax.set_yticklabels(['']+attr)\n",
    "    \n",
    "    cax=ax.matshow(correlations,vmax=1,vmin=-1)\n",
    "    fig.colorbar(cax)\n",
    "    fig.autofmt_xdate(rotation = 90)\n",
    "    plt.show()\n",
    "    \n",
    "    return\n",
    "\n",
    "plot_corr_matrix(corrmatrix, columns)"
   ]
  },
  {
   "cell_type": "markdown",
   "metadata": {},
   "source": [
    "### Logistic Regression"
   ]
  },
  {
   "cell_type": "markdown",
   "metadata": {},
   "source": [
    "#### Train, Validation, Test Split"
   ]
  },
  {
   "cell_type": "code",
   "execution_count": 41,
   "metadata": {},
   "outputs": [],
   "source": [
    "# split Train, Validation, Test set to 0.7, 0.15, 0.15\n",
    "train, rest = df.randomSplit([0.7, 0.3], seed = 42)\n",
    "validation, test = rest.randomSplit([0.5, 0.5], seed = 42)"
   ]
  },
  {
   "cell_type": "code",
   "execution_count": null,
   "metadata": {},
   "outputs": [],
   "source": [
    "print('train', train.shape)\n",
    "print('validation', validation.shape)\n",
    "print('test', test.shape)"
   ]
  },
  {
   "cell_type": "markdown",
   "metadata": {},
   "source": [
    "#### Build Pipeline"
   ]
  },
  {
   "cell_type": "code",
   "execution_count": 42,
   "metadata": {},
   "outputs": [],
   "source": [
    "columns = ['Add Friend','Add to Playlist','downgraded',\\\n",
    "            'Error', 'NextSong', 'Upgrade', 'Thumbs Down', \\\n",
    "            'Thumbs Up']\n",
    "\n",
    "# create label and features in pipeline\n",
    "label = StringIndexer(inputCol='churn', outputCol='label')\n",
    "feature_assembler = VectorAssembler(inputCols=columns, outputCol='model_features')\n",
    "# normalize features\n",
    "scaler = Normalizer(inputCol='model_features', outputCol=\"features\")\n",
    "# logistic regression\n",
    "lr = LogisticRegression(maxIter=10, regParam=0.0, elasticNetParam=0)\n",
    "#build pipeline\n",
    "pipeline = Pipeline(stages = [label, feature_assembler, scaler, lr])"
   ]
  },
  {
   "cell_type": "markdown",
   "metadata": {},
   "source": [
    "#### Tune Model"
   ]
  },
  {
   "cell_type": "code",
   "execution_count": 43,
   "metadata": {},
   "outputs": [],
   "source": [
    "def crossvalidation(pipeline):\n",
    "    '''\n",
    "    Input: pipeline - pipeline object\n",
    "    Output: cvModel - cross validation model\n",
    "    '''\n",
    "    # create parameter grid\n",
    "    paramGrid = ParamGridBuilder() \\\n",
    "        .addGrid(lr.regParam,[0.0, 0.1]) \\\n",
    "        .build()\n",
    "\n",
    "    # Train cross validation logistric regression model\n",
    "    crossval = CrossValidator(estimator=pipeline,\n",
    "                              estimatorParamMaps=paramGrid,\n",
    "                              evaluator=BinaryClassificationEvaluator(),\n",
    "                              numFolds=10)\n",
    "    cvModel = crossval.fit(train)\n",
    "    return cvModel"
   ]
  },
  {
   "cell_type": "code",
   "execution_count": 44,
   "metadata": {},
   "outputs": [],
   "source": [
    "cvModel = crossvalidation(pipeline)"
   ]
  },
  {
   "cell_type": "markdown",
   "metadata": {},
   "source": [
    "#### Compute Accuracy of Best Model"
   ]
  },
  {
   "cell_type": "code",
   "execution_count": 45,
   "metadata": {},
   "outputs": [
    {
     "data": {
      "text/plain": [
       "[0.6560209235209236, 0.6571320346320347]"
      ]
     },
     "execution_count": 45,
     "metadata": {},
     "output_type": "execute_result"
    }
   ],
   "source": [
    "cvModel.avgMetrics"
   ]
  },
  {
   "cell_type": "code",
   "execution_count": 46,
   "metadata": {},
   "outputs": [],
   "source": [
    "def model_evaluation(cvModel, validation):\n",
    "    # get the prediction\n",
    "    prediction = cvModel.transform(validation)\n",
    "    \n",
    "    # initialize the evaluator\n",
    "    evaluator = BinaryClassificationEvaluator()\n",
    "    \n",
    "    # calculate AUC\n",
    "    auc = evaluator.evaluate(\n",
    "        prediction, {evaluator.metricName: 'areaUnderROC'})\n",
    "    print('AUC: %0.3f' % auc)\n",
    "    \n",
    "    # compute TN, TP, FN, and FP\n",
    "    prediction.groupBy('label', 'prediction').count().show()\n",
    "    \n",
    "    # Calculate the elements of the confusion matrix\n",
    "    TN = prediction.filter('prediction = 0 AND label = prediction').count()\n",
    "    TP = prediction.filter('prediction = 1 AND label = prediction').count()\n",
    "    FN = prediction.filter('prediction = 0 AND label != prediction').count()\n",
    "    FP = prediction.filter('prediction = 1 AND label != prediction').count()\n",
    "\n",
    "    # since we have a small dataset, it is possible that we have some elements of the confusion matrix is 0\n",
    "    def zero_division(n, d):\n",
    "        return n / d if d else 'No value'\n",
    "\n",
    "    # calculate accuracy, precision, recall, and F1-score\n",
    "    accuracy = zero_division((TN + TP), (TN + TP + FN + FP))\n",
    "    precision = zero_division(TP, (TP + FP))\n",
    "    recall = zero_division(TP, (TP + FN))\n",
    "    print('precision: ', precision)\n",
    "    print('recall: ', recall)\n",
    "    print('accuracy: ', accuracy)\n",
    "\n",
    "    try:\n",
    "        F = zero_division(2 * (precision*recall), (precision + recall))\n",
    "        print('F1 score: ', F)\n",
    "    except:\n",
    "        print('no valid F1 score')\n",
    "    return"
   ]
  },
  {
   "cell_type": "code",
   "execution_count": 47,
   "metadata": {},
   "outputs": [
    {
     "name": "stdout",
     "output_type": "stream",
     "text": [
      "AUC: 0.786\n",
      "+-----+----------+-----+\n",
      "|label|prediction|count|\n",
      "+-----+----------+-----+\n",
      "|  1.0|       0.0|    1|\n",
      "|  0.0|       0.0|   14|\n",
      "+-----+----------+-----+\n",
      "\n",
      "precision:  No value\n",
      "recall:  0.0\n",
      "accuracy:  0.9333333333333333\n",
      "no valid F1 score\n"
     ]
    }
   ],
   "source": [
    "model_evaluation(cvModel, validation)"
   ]
  },
  {
   "cell_type": "markdown",
   "metadata": {},
   "source": [
    "#### Build pipeline 2 with standard scaler"
   ]
  },
  {
   "cell_type": "code",
   "execution_count": 49,
   "metadata": {},
   "outputs": [],
   "source": [
    "columns = ['Add Friend','Add to Playlist','downgraded',\\\n",
    "            'Error', 'NextSong', 'Upgrade', 'Thumbs Down', \\\n",
    "            'Thumbs Up']\n",
    "# create label and features \n",
    "label = StringIndexer(inputCol='churn', outputCol='label')\n",
    "feature_assembler = VectorAssembler(inputCols=columns, outputCol=\"model_features\")\n",
    "# use StandardScaler to normalize feature vector\n",
    "scaler = StandardScaler(inputCol='model_features', outputCol=\"features\", withMean=False, withStd=False)\n",
    "# logistic regression\n",
    "lr = LogisticRegression(maxIter=10, regParam=0.0, elasticNetParam=0)\n",
    "# build pipeline\n",
    "pipeline2 = Pipeline(stages = [label, feature_assembler, scaler, lr])"
   ]
  },
  {
   "cell_type": "code",
   "execution_count": null,
   "metadata": {},
   "outputs": [],
   "source": [
    "cvModel2 = crossvalidation(pipeline2)"
   ]
  },
  {
   "cell_type": "code",
   "execution_count": null,
   "metadata": {},
   "outputs": [],
   "source": [
    "# evaluate model on validation set\n",
    "model_evaluation(cvModel2, validation)"
   ]
  },
  {
   "cell_type": "code",
   "execution_count": null,
   "metadata": {},
   "outputs": [],
   "source": [
    "# find the best model and check coefficients\n",
    "best_lr = cvModel2.bestModel\n",
    "best_lr.stages[-1].coefficients"
   ]
  },
  {
   "cell_type": "markdown",
   "metadata": {},
   "source": [
    "#### We trained our model on trainning set and choose the best model based on our validation set. Now we are going to use the best model we found to predict test set."
   ]
  },
  {
   "cell_type": "code",
   "execution_count": null,
   "metadata": {},
   "outputs": [],
   "source": [
    "# evaluate model on test set\n",
    "model_evaluation(cvModel2, test)"
   ]
  },
  {
   "cell_type": "markdown",
   "metadata": {},
   "source": [
    "# Final Steps\n",
    "Clean up your code, adding comments and renaming variables to make the code easier to read and maintain. Refer to the Spark Project Overview page and Data Scientist Capstone Project Rubric to make sure you are including all components of the capstone project and meet all expectations. Remember, this includes thorough documentation in a README file in a Github repository, as well as a web app or blog post."
   ]
  }
 ],
 "metadata": {
  "kernelspec": {
   "display_name": "Python 3",
   "language": "python",
   "name": "python3"
  },
  "language_info": {
   "codemirror_mode": {
    "name": "ipython",
    "version": 3
   },
   "file_extension": ".py",
   "mimetype": "text/x-python",
   "name": "python",
   "nbconvert_exporter": "python",
   "pygments_lexer": "ipython3",
   "version": "3.8.5"
  }
 },
 "nbformat": 4,
 "nbformat_minor": 2
}
